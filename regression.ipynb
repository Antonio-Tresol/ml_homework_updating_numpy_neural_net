{
 "cells": [
  {
   "cell_type": "markdown",
   "metadata": {},
   "source": [
    "# Regresion Problem"
   ]
  },
  {
   "cell_type": "code",
   "execution_count": 1,
   "metadata": {},
   "outputs": [
    {
     "name": "stdout",
     "output_type": "stream",
     "text": [
      "(160, 1) (160, 1)\n",
      "(40, 1) (40, 1)\n"
     ]
    },
    {
     "ename": "NameError",
     "evalue": "name 'nn' is not defined",
     "output_type": "error",
     "traceback": [
      "\u001b[0;31m---------------------------------------------------------------------------\u001b[0m",
      "\u001b[0;31mNameError\u001b[0m                                 Traceback (most recent call last)",
      "Cell \u001b[0;32mIn[1], line 10\u001b[0m\n\u001b[1;32m      8\u001b[0m train_hist \u001b[38;5;241m=\u001b[39m historian()\n\u001b[1;32m      9\u001b[0m logger \u001b[38;5;241m=\u001b[39m nnlogger(hp\u001b[38;5;241m.\u001b[39moutput_log, (\u001b[38;5;124m\"\u001b[39m\u001b[38;5;124mEpoch\u001b[39m\u001b[38;5;124m\"\u001b[39m, \u001b[38;5;124m\"\u001b[39m\u001b[38;5;124mPhase\u001b[39m\u001b[38;5;124m\"\u001b[39m, \u001b[38;5;124m\"\u001b[39m\u001b[38;5;124mIteration\u001b[39m\u001b[38;5;124m\"\u001b[39m, \u001b[38;5;124m\"\u001b[39m\u001b[38;5;124mAccuracy\u001b[39m\u001b[38;5;124m\"\u001b[39m, \u001b[38;5;124m\"\u001b[39m\u001b[38;5;124mLoss\u001b[39m\u001b[38;5;124m\"\u001b[39m) )\n\u001b[0;32m---> 10\u001b[0m \u001b[43mtrain\u001b[49m\u001b[43m(\u001b[49m\u001b[43mnn\u001b[49m\u001b[43m,\u001b[49m\u001b[43m \u001b[49m\u001b[43mhp\u001b[49m\u001b[43m,\u001b[49m\u001b[43m \u001b[49m\u001b[43mval_hist\u001b[49m\u001b[43m,\u001b[49m\u001b[43m \u001b[49m\u001b[43mtrain_hist\u001b[49m\u001b[43m,\u001b[49m\u001b[43m \u001b[49m\u001b[43mlogger\u001b[49m\u001b[43m,\u001b[49m\u001b[43m \u001b[49m\u001b[43macc_func\u001b[49m\u001b[38;5;241;43m=\u001b[39;49m\u001b[43mmean_absolute_error\u001b[49m\u001b[43m)\u001b[49m\n\u001b[1;32m     11\u001b[0m test(hp\u001b[38;5;241m.\u001b[39mds_test, verbose\u001b[38;5;241m=\u001b[39m\u001b[38;5;28;01mTrue\u001b[39;00m, phase\u001b[38;5;241m=\u001b[39m\u001b[38;5;124m\"\u001b[39m\u001b[38;5;124mTest\u001b[39m\u001b[38;5;124m\"\u001b[39m, acc_func\u001b[38;5;241m=\u001b[39mmean_absolute_error)\n\u001b[1;32m     12\u001b[0m nnplotter\u001b[38;5;241m.\u001b[39mview(val_hist, train_hist) \u001b[38;5;66;03m#see results on plot\u001b[39;00m\n",
      "File \u001b[0;32m/media/enrique/Windows/Users/enriq/Documents/Academic/UCR/Semestres/VII_Ciclo/Machine_Learning/Tareas/Tarea_3/ml_homework_updating_numpy_neural_net/main.py:52\u001b[0m, in \u001b[0;36mtrain\u001b[0;34m(nn, hp, val_hist, train_hist, logger, acc_func)\u001b[0m\n\u001b[1;32m     49\u001b[0m hits \u001b[38;5;241m=\u001b[39m \u001b[38;5;241m0\u001b[39m\n\u001b[1;32m     50\u001b[0m train_loss \u001b[38;5;241m=\u001b[39m \u001b[38;5;241m0\u001b[39m\n\u001b[0;32m---> 52\u001b[0m val_accuracy, val_loss \u001b[38;5;241m=\u001b[39m \u001b[43mtest\u001b[49m\u001b[43m(\u001b[49m\u001b[43mhp\u001b[49m\u001b[38;5;241;43m.\u001b[39;49m\u001b[43mds_val\u001b[49m\u001b[43m,\u001b[49m\u001b[43m \u001b[49m\u001b[38;5;28;43;01mTrue\u001b[39;49;00m\u001b[43m,\u001b[49m\u001b[43m \u001b[49m\u001b[43macc_func\u001b[49m\u001b[38;5;241;43m=\u001b[39;49m\u001b[43macc_func\u001b[49m\u001b[43m)\u001b[49m\n\u001b[1;32m     53\u001b[0m val_hist\u001b[38;5;241m.\u001b[39madd(cur_iter, val_loss, val_accuracy)\n\u001b[1;32m     54\u001b[0m logger\u001b[38;5;241m.\u001b[39mwrite( (cur_epoch, \u001b[38;5;124m\"\u001b[39m\u001b[38;5;124mVal\u001b[39m\u001b[38;5;124m\"\u001b[39m, cur_iter, val_accuracy, val_loss) )\n",
      "File \u001b[0;32m/media/enrique/Windows/Users/enriq/Documents/Academic/UCR/Semestres/VII_Ciclo/Machine_Learning/Tareas/Tarea_3/ml_homework_updating_numpy_neural_net/main.py:14\u001b[0m, in \u001b[0;36mtest\u001b[0;34m(ds, verbose, phase, acc_func)\u001b[0m\n\u001b[1;32m     12\u001b[0m \u001b[38;5;28;01mwhile\u001b[39;00m \u001b[38;5;129;01mnot\u001b[39;00m(ds\u001b[38;5;241m.\u001b[39miter_done()):\n\u001b[1;32m     13\u001b[0m     x, y \u001b[38;5;241m=\u001b[39m ds\u001b[38;5;241m.\u001b[39mnext()\n\u001b[0;32m---> 14\u001b[0m     o, batch_loss \u001b[38;5;241m=\u001b[39m \u001b[43mnn\u001b[49m\u001b[38;5;241m.\u001b[39mforward(x, y, train\u001b[38;5;241m=\u001b[39m\u001b[38;5;28;01mFalse\u001b[39;00m)\n\u001b[1;32m     15\u001b[0m     hits \u001b[38;5;241m+\u001b[39m\u001b[38;5;241m=\u001b[39m np\u001b[38;5;241m.\u001b[39msum(acc_func(o, y))\n\u001b[1;32m     16\u001b[0m     mean_loss \u001b[38;5;241m+\u001b[39m\u001b[38;5;241m=\u001b[39m np\u001b[38;5;241m.\u001b[39msum(batch_loss)\n",
      "\u001b[0;31mNameError\u001b[0m: name 'nn' is not defined"
     ]
    }
   ],
   "source": [
    "from data.config import *\n",
    "from data.dataset import *\n",
    "from report.dumps import *\n",
    "from nn.model import model\n",
    "from nn.funcs import *\n",
    "import numpy as np\n",
    "\n",
    "def test(ds, verbose=False, phase=\"Validation\", acc_func=batch_hits):\n",
    "    ds.reset()\n",
    "    hits = 0\n",
    "    mean_loss = 0\n",
    "    while not(ds.iter_done()):\n",
    "        x, y = ds.next()\n",
    "        o, batch_loss = nn.forward(x, y, train=False)\n",
    "        hits += np.sum(acc_func(o, y))\n",
    "        mean_loss += np.sum(batch_loss)\n",
    "        #if verbose:\n",
    "        #    print(\"Loss: \" + str(mean_loss), \" Predicted: \" + str(o), \" Expected: \" + str(y))\n",
    "    accuracy = float(hits) / float(ds.size)\n",
    "    mean_loss = float(mean_loss) / float(ds.size)\n",
    "    if verbose:\n",
    "        print(f\"{phase} Accuracy: {str(accuracy)} Mean Loss {str(mean_loss)}\")\n",
    "    return accuracy, mean_loss\n",
    "\n",
    "def train(nn, hp, val_hist, train_hist, logger, acc_func=batch_hits):\n",
    "    cur_epoch = 1\n",
    "    cur_iter = 1\n",
    "    for i in range(1, hp.epochs+1):\n",
    "        train_loss = 0\n",
    "        hits = 0\n",
    "        cur_trained = 0\n",
    "        while not(hp.ds_train.iter_done()):\n",
    "            x, y = hp.ds_train.next()\n",
    "            #print(y)\n",
    "            o, batch_loss = nn.forward(x, y)\n",
    "            nn.backward(y,o)\n",
    "            nn.update(hp.lr)\n",
    "\n",
    "            hits += np.sum(acc_func(o, y))\n",
    "            cur_trained += len(x)\n",
    "            train_loss += np.sum(batch_loss)\n",
    "\n",
    "            if cur_iter % hp.validate_every_no_of_batches == 0:\n",
    "\n",
    "                train_accuracy = float(hits) / float(cur_trained)\n",
    "                train_loss = float(train_loss) / float(cur_trained)\n",
    "                train_hist.add(cur_iter, train_loss, train_accuracy)\n",
    "                logger.write( (cur_epoch, \"Training\", cur_iter, train_accuracy, train_loss) )\n",
    "                hits = 0\n",
    "                train_loss = 0\n",
    "\n",
    "                val_accuracy, val_loss = test(hp.ds_val, True, acc_func=acc_func)\n",
    "                val_hist.add(cur_iter, val_loss, val_accuracy)\n",
    "                logger.write( (cur_epoch, \"Val\", cur_iter, val_accuracy, val_loss) )\n",
    "            cur_iter+=1\n",
    "        cur_epoch+=1\n",
    "        hp.ds_train.reset()\n",
    "    return val_hist\n",
    "\n",
    "hp = hyperparams(ConfigEnum.SIN)\n",
    "\n",
    "nn = model(hp.input_size, hp.output_size, hp.hidden_shapes, sigmoid, sigmoid_grad, has_dropout=hp.has_dropout, dropout_perc=hp.dropout_perc, loss_type=\"mse\")\n",
    "\n",
    "val_hist = historian()\n",
    "train_hist = historian()\n",
    "logger = nnlogger(hp.output_log, (\"Epoch\", \"Phase\", \"Iteration\", \"Accuracy\", \"Loss\") )\n",
    "train(nn, hp, val_hist, train_hist, logger, acc_func=mean_absolute_error)\n",
    "test(hp.ds_test, verbose=True, phase=\"Test\", acc_func=mean_absolute_error)\n",
    "nnplotter.view(val_hist, train_hist) #see results on plot\n",
    "logger.close()"
   ]
  }
 ],
 "metadata": {
  "kernelspec": {
   "display_name": "Python 3",
   "language": "python",
   "name": "python3"
  },
  "language_info": {
   "codemirror_mode": {
    "name": "ipython",
    "version": 3
   },
   "file_extension": ".py",
   "mimetype": "text/x-python",
   "name": "python",
   "nbconvert_exporter": "python",
   "pygments_lexer": "ipython3",
   "version": "3.10.12"
  }
 },
 "nbformat": 4,
 "nbformat_minor": 2
}
